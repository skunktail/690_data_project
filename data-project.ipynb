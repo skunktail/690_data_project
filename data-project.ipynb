{
 "cells": [
  {
   "cell_type": "code",
   "execution_count": 1,
   "metadata": {},
   "outputs": [
    {
     "name": "stdout",
     "output_type": "stream",
     "text": [
      "importing Jupyter notebook from download_acled.ipynb\n",
      "importing Jupyter notebook from acled_email_key.ipynb\n"
     ]
    }
   ],
   "source": [
    "\n",
    "import json\n",
    "import pandas as pd\n",
    "import numpy as np\n",
    "import math\n",
    "import re\n",
    "import datetime\n",
    "from sklearn.cluster import KMeans\n",
    "from sklearn.metrics import confusion_matrix, matthews_corrcoef\n",
    "import matplotlib.pyplot as plt\n",
    "from mpl_toolkits import mplot3d\n",
    "\n",
    "import import_ipynb\n",
    "import download_acled \n",
    "\n",
    "# set some user parameters here\n",
    "country_of_interest = ['Niger', 'Mali', 'Burkina Faso']\n",
    "event_start_date = '2019-01-01'\n",
    "num_clusters = 3\n"
   ]
  },
  {
   "cell_type": "code",
   "execution_count": 2,
   "metadata": {
    "tags": []
   },
   "outputs": [
    {
     "name": "stdout",
     "output_type": "stream",
     "text": [
      "getting data for country Niger\n",
      "downloading acled page  1\n",
      "success\n",
      "number of results  500\n",
      "downloading acled page  2\n",
      "success\n",
      "number of results  737\n",
      "500\n",
      "737\n",
      "getting data for country Mali\n",
      "downloading acled page  1\n",
      "success\n",
      "number of results  500\n",
      "downloading acled page  2\n",
      "success\n",
      "number of results  1000\n",
      "downloading acled page  3\n",
      "success\n",
      "number of results  1500\n",
      "downloading acled page  4\n",
      "success\n",
      "number of results  1802\n",
      "500\n",
      "1000\n",
      "1500\n",
      "1802\n",
      "getting data for country Burkina Faso\n",
      "downloading acled page  1\n",
      "success\n",
      "number of results  500\n",
      "downloading acled page  2\n",
      "success\n",
      "number of results  1000\n",
      "downloading acled page  3\n",
      "success\n",
      "number of results  1500\n",
      "downloading acled page  4\n",
      "success\n",
      "number of results  1595\n",
      "500\n",
      "1000\n",
      "1500\n",
      "1595\n"
     ]
    }
   ],
   "source": [
    "# call the acled download functions from the other file, download_acled.ipynb\n",
    "acled_data = []\n",
    "for country in country_of_interest:\n",
    "    print( \"getting data for country {}\".format( country ))\n",
    "    acled_params = download_acled.get_acled_download_parameters(country, event_start_date)\n",
    "    acled_data += download_acled.download_acled_data(acled_params) \n"
   ]
  },
  {
   "cell_type": "code",
   "execution_count": 3,
   "metadata": {},
   "outputs": [],
   "source": [
    "# convert it into an pandas data frame \n",
    "results_table = pd.DataFrame(acled_data)\n",
    "\n",
    "# force typing of numerical data \n",
    "results_table = download_acled.recast_acled_numerical_columns( results_table )"
   ]
  },
  {
   "cell_type": "code",
   "execution_count": 4,
   "metadata": {},
   "outputs": [],
   "source": [
    "# let's split them up by event_type to be generally useful\n",
    "battles      = results_table[results_table.event_type == 'Battles']\n",
    "remote_viols = results_table[results_table.event_type == 'Explosions/Remote violence']\n",
    "viol_ag_civs = results_table[results_table.event_type == 'Violence against civilians']\n",
    "riots        = results_table[results_table.event_type == 'Riots']\n",
    "protests     = results_table[results_table.event_type == 'Protests']\n",
    "strat_devs   = results_table[results_table.event_type == 'Strategic developments']\n"
   ]
  },
  {
   "cell_type": "code",
   "execution_count": 5,
   "metadata": {},
   "outputs": [
    {
     "name": "stdout",
     "output_type": "stream",
     "text": [
      "rows: 3031\n"
     ]
    }
   ],
   "source": [
    "# let's try to arrange data into a table of events by terrorists\n",
    "# could include battles, remote violence, and/or violence against civilians\n",
    "bad_guys_events = pd.concat([battles, remote_viols, viol_ag_civs])\n",
    "\n",
    "# set index and sort\n",
    "bad_guys_events.set_index('data_id', inplace=True)\n",
    "bad_guys_events.sort_values('data_id')\n",
    "print( \"rows: {}\".format(len(bad_guys_events.index)))\n",
    "\n",
    "# optional: print to excel file to double check our work\n",
    "# bad_guys_events.to_excel(\"output.xlsx\")\n"
   ]
  },
  {
   "cell_type": "code",
   "execution_count": 6,
   "metadata": {},
   "outputs": [
    {
     "name": "stdout",
     "output_type": "stream",
     "text": [
      "['Islamic State (West Africa)'\n",
      " 'JNIM: Group for Support of Islam and Muslims'\n",
      " 'Boko Haram - Jamatu Ahli is-Sunnah lid-Dawatai wal-Jihad'\n",
      " 'Islamic State (West Africa) and/or Boko Haram - Jamatu Ahli is-Sunnah lid-Dawatai wal-Jihad'\n",
      " 'Islamic State (Greater Sahara)'\n",
      " 'JNIM: Group for Support of Islam and Muslims and/or Islamic State (Greater Sahara)'\n",
      " 'Katiba Macina' 'Islamic State (Greater Sahara) and/or Ansaroul Islam']\n",
      "rows: 1693\n"
     ]
    }
   ],
   "source": [
    "# filter out, on actor1 (who caused the event), non-terrorists\n",
    "# such as militias, police, military, and multinational joint task forces\n",
    "# we'll also take out Unidentified groups so we can later compare clustering to attribution\n",
    "filter_out_by = 'militia|Police|MNJTF|Military|Azawad|MINUSMA|G5|VDP|Dan na|GATIA|Ganda Izo|Unidentified'\n",
    "bad_guys_events = bad_guys_events[~bad_guys_events['actor1'].str.contains(filter_out_by, flags=re.IGNORECASE)] \n",
    "\n",
    "print( bad_guys_events.actor1.unique() )\n",
    "\n",
    "print( \"rows: {}\".format(len(bad_guys_events.index)))"
   ]
  },
  {
   "cell_type": "code",
   "execution_count": 7,
   "metadata": {},
   "outputs": [
    {
     "name": "stdout",
     "output_type": "stream",
     "text": [
      "rows: 1462\n"
     ]
    }
   ],
   "source": [
    "\n",
    "# optional: filter by some numerical metric\n",
    "# here, we can try to filter out boko/diffa stuff by using a longitudinal limit\n",
    "bad_guys_events = bad_guys_events[bad_guys_events['longitude'] < 5.5] \n",
    "\n",
    "print( \"rows: {}\".format(len(bad_guys_events.index)))"
   ]
  },
  {
   "cell_type": "code",
   "execution_count": 8,
   "metadata": {},
   "outputs": [],
   "source": [
    "# let's look at clustering by geolocation\n",
    "\n",
    "# first pull the lats and lons and reorganize into a 2-D array that KMeans requires\n",
    "lats = bad_guys_events['latitude'].to_numpy().astype(np.float)  # get the lats as flots in numpy array\n",
    "lons = bad_guys_events['longitude'].to_numpy().astype(np.float) # get the lons as flots in numpy array\n",
    "lat_lons = np.vstack((lats, lons)).T                            # join them together in a shape that kmeans wants\n",
    "kmeans = KMeans(n_clusters=num_clusters, init='k-means++').fit(lat_lons)   # run the kmeans algorithm"
   ]
  },
  {
   "cell_type": "code",
   "execution_count": 9,
   "metadata": {},
   "outputs": [
    {
     "name": "stdout",
     "output_type": "stream",
     "text": [
      "[1 2 1 ... 1 1 1]\n"
     ]
    }
   ],
   "source": [
    "# let's get an array showing the determined cluster for each data point\n",
    "cl_labels = kmeans.labels_\n",
    "print(cl_labels)"
   ]
  },
  {
   "cell_type": "code",
   "execution_count": 10,
   "metadata": {},
   "outputs": [
    {
     "name": "stdout",
     "output_type": "stream",
     "text": [
      "[[14.17110988 -3.6719537 ]\n",
      " [13.61641087 -0.40435089]\n",
      " [15.95893574  1.52434217]]\n"
     ]
    }
   ],
   "source": [
    "# let's get the k-means clustering centers\n",
    "cl_centers = kmeans.cluster_centers_\n",
    "print(cl_centers)"
   ]
  },
  {
   "cell_type": "code",
   "execution_count": 11,
   "metadata": {},
   "outputs": [
    {
     "data": {
      "image/png": "[encoded data removed]",
      "text/plain": [
       "<Figure size 432x432 with 1 Axes>"
      ]
     },
     "metadata": {
      "needs_background": "light"
     },
     "output_type": "display_data"
    }
   ],
   "source": [
    "#let's plot this out on a lat/lon blank map to visualize how it did it's k-means clustering\n",
    "\n",
    "# first, rearrange the data for use in scatter plotting\n",
    "lat_lons_transposed = lat_lons.transpose()\n",
    "#len(lat_lons_transposed[0])\n",
    "#lat_lons_transposed\n",
    "\n",
    "# open a matplotlib plotting figure and format the axes\n",
    "fig = plt.figure()\n",
    "fig.set_size_inches(6,6)\n",
    "ax = fig.add_axes([0,0,1,1])\n",
    "ax.set_aspect('equal') # fix the aspect ratio \n",
    "ax.set_ylabel('latitude')\n",
    "ax.set_xlabel('longitude')\n",
    "ax.set_title('K-means clustering on lat/lon plot')\n",
    "\n",
    "# plot data points with little dots in various colors\n",
    "for i in range(len(lat_lons_transposed[0])):\n",
    "    if cl_labels[i] == 0:\n",
    "        cl_color = \"aqua\" #\n",
    "    elif cl_labels[i] == 1:\n",
    "        cl_color = \"lime\" #\n",
    "    elif cl_labels[i] == 2:\n",
    "        cl_color = \"gold\" #\n",
    "    elif cl_labels[i] == 3:\n",
    "        cl_color = \"purple\" #\n",
    "    elif cl_labels[i] == 4:\n",
    "        cl_color = \"darkred\" #\n",
    "    else:\n",
    "        cl_color = \"orange\" #\n",
    "\n",
    "    y = lat_lons_transposed[0][i]\n",
    "    x = lat_lons_transposed[1][i]\n",
    "\n",
    "    ax.scatter(x, y, color=cl_color, s=1)\n",
    "\n",
    "#plot centers with big blue stars\n",
    "for i in range(len(cl_centers)):\n",
    "    ax.scatter(cl_centers[i][1], cl_centers[i][0], marker=\"${}$\".format(i), s=75, color=\"#0000FF\") #blue\n",
    "\n",
    "plt.show()\n",
    "\n"
   ]
  },
  {
   "cell_type": "markdown",
   "metadata": {},
   "source": [
    "How well does geographic clustering correlate with attribution?  \n",
    "In Niger, and most of West/Sahel Africa countries over the past couple of years, ACLED will use mostly standardized\n",
    "group names as one of four groups: ISIS-WA, ISIS-GS, JNIM, and Boko Haram\n",
    "In this case, there are some that are listed as ISIS-WA OR Boko, and also will attribute some attacks to both JNIM and ISIS-GS"
   ]
  },
  {
   "cell_type": "code",
   "execution_count": 12,
   "metadata": {},
   "outputs": [
    {
     "name": "stderr",
     "output_type": "stream",
     "text": [
      "/opt/anaconda3/lib/python3.8/site-packages/pandas/core/strings.py:1954: UserWarning: This pattern has match groups. To actually get the groups, use str.extract.\n",
      "  return func(self, *args, **kwargs)\n"
     ]
    }
   ],
   "source": [
    "# First, let's create the exact same type of matrix of clustering, but based on attributed group\n",
    "group_Boko_Haram = '.*Boko Haram'\n",
    "group_ISIS_WA = '(.*Islamic State)(.*West Africa)'\n",
    "group_ISIS_GS = '(.*Islamic State)(.*Greater Sahara)'\n",
    "group_JNIM = '.*JNIM'\n",
    "group_MLF = '.*Macina'\n",
    "\n",
    "#df = bad_guys_events.loc[(bad_guys_events['actor1'].str.contains(group_Boko_Haram, flags=re.IGNORECASE))] # & df['favorite_color']\n",
    "\n",
    "BH_matrix = bad_guys_events['actor1'].str.contains(group_Boko_Haram, flags=re.IGNORECASE)\n",
    "ISIS_WA_matrix = bad_guys_events['actor1'].str.contains(group_ISIS_WA, flags=re.IGNORECASE)\n",
    "ISIS_GS_matrix = bad_guys_events['actor1'].str.contains(group_ISIS_GS, flags=re.IGNORECASE)\n",
    "JNIM_matrix = bad_guys_events['actor1'].str.contains(group_JNIM, flags=re.IGNORECASE)\n",
    "MLF_matrix = bad_guys_events['actor1'].str.contains(group_MLF, flags=re.IGNORECASE)"
   ]
  },
  {
   "cell_type": "code",
   "execution_count": 13,
   "metadata": {},
   "outputs": [
    {
     "name": "stdout",
     "output_type": "stream",
     "text": [
      "BH     \n",
      " False    1462\n",
      "Name: actor1, dtype: int64\n",
      "ISIS_WA\n",
      " False    1462\n",
      "Name: actor1, dtype: int64\n",
      "ISIS_GS\n",
      " False    754\n",
      "True     708\n",
      "Name: actor1, dtype: int64\n",
      "JNIM   \n",
      " True     1090\n",
      "False     372\n",
      "Name: actor1, dtype: int64\n",
      "JN+ISGS\n",
      " False    1080\n",
      "True      382\n",
      "Name: actor1, dtype: int64\n",
      "MLF    \n",
      " False    1416\n",
      "True       46\n",
      "Name: actor1, dtype: int64\n"
     ]
    }
   ],
   "source": [
    "print( \"BH     \\n\", BH_matrix.value_counts() )\n",
    "print( \"ISIS_WA\\n\", ISIS_WA_matrix.value_counts() )\n",
    "print( \"ISIS_GS\\n\", ISIS_GS_matrix.value_counts() )\n",
    "print( \"JNIM   \\n\", JNIM_matrix.value_counts() )\n",
    "print( \"JN+ISGS\\n\", (JNIM_matrix & ISIS_GS_matrix).value_counts() )\n",
    "print( \"MLF    \\n\", MLF_matrix.value_counts() )\n"
   ]
  },
  {
   "cell_type": "code",
   "execution_count": 14,
   "metadata": {},
   "outputs": [
    {
     "data": {
      "image/png": "[encoded data removed]",
      "text/plain": [
       "<Figure size 432x432 with 1 Axes>"
      ]
     },
     "metadata": {
      "needs_background": "light"
     },
     "output_type": "display_data"
    }
   ],
   "source": [
    "\n",
    "# open a matplotlib plotting figure and format the axes\n",
    "fig2 = plt.figure()\n",
    "fig2.set_size_inches(6,6)\n",
    "ax = fig2.add_axes([0,0,1,1])\n",
    "ax.set_aspect('equal') # fix the aspect ratio \n",
    "ax.set_ylabel('latitude')\n",
    "ax.set_xlabel('longitude')\n",
    "ax.set_title('acled attributions on lat/lon plot')\n",
    "\n",
    "# plot data points with little dots in various colors\n",
    "for i in range(len(lat_lons_transposed[0])):\n",
    "    if BH_matrix.iloc[i] and ISIS_WA_matrix.iloc[i]:\n",
    "        cl_color = \"orange\" #   \n",
    "    elif BH_matrix.iloc[i]:\n",
    "        cl_color = \"gold\" #\n",
    "    elif ISIS_WA_matrix.iloc[i]:\n",
    "        cl_color = \"red\" #\n",
    "    elif JNIM_matrix.iloc[i] and ISIS_GS_matrix.iloc[i]:\n",
    "        cl_color = \"teal\" # \n",
    "    elif JNIM_matrix.iloc[i]:\n",
    "        cl_color = \"lime\" #\n",
    "    elif ISIS_GS_matrix.iloc[i]:\n",
    "        cl_color = \"aqua\" #\n",
    "    elif MLF_matrix.iloc[i]:\n",
    "        cl_color = \"purple\" #\n",
    "    else:\n",
    "        cl_color = \"black\" # something went wrong\n",
    "\n",
    "    ax.scatter(lat_lons_transposed[1][i], lat_lons_transposed[0][i], color=cl_color, s=1)\n",
    "\n",
    "#plot centers with big blue numbers\n",
    "for i in range(len(cl_centers)):\n",
    "    ax.scatter(cl_centers[i][1], cl_centers[i][0], marker=\"${}$\".format(i), s=75, color=\"#0000FF\") #blue\n",
    "\n",
    "plt.show()"
   ]
  },
  {
   "cell_type": "markdown",
   "metadata": {},
   "source": [
    "So it looks like there is some, but not a strong, relationship between geo clusters and attributions.\n",
    "\n",
    "How good is it? We can use the a Matthews’ Correlation Coefficient to give insight.  Since this is really\n",
    "a binary comparison at heart, we'll take each group one at a time.\n"
   ]
  },
  {
   "cell_type": "code",
   "execution_count": 18,
   "metadata": {},
   "outputs": [],
   "source": [
    "# we'll take each group's matrix, and for those that have two (and/or) attributions, \n",
    "# we'll use those as predicted in both cases\n",
    "\n",
    "# first, let's figure out which cluster center is closest to each attributed group's geo clusters\n",
    "# since we'll do this a few times, let's make a function   \n",
    "def best_cluster_center(group_matrix, all_lats, all_lons, cluster_centers):\n",
    "\n",
    "    # first lets get only those lat lons that correspond to the group in question\n",
    "    group_lats = []\n",
    "    group_lons = []\n",
    "    for i in range(len(all_lats)):\n",
    "        if group_matrix.iloc[i]:\n",
    "            group_lats.append(all_lats[i])\n",
    "            group_lons.append(all_lons[i])\n",
    "\n",
    "    # then calc the mean\n",
    "    lat_mean = pd.Series(group_lats, dtype=float).mean()\n",
    "    lon_mean = pd.Series(group_lons, dtype=float).mean()\n",
    "\n",
    "    # now let's get the distance to each cluster center\n",
    "    distance = []\n",
    "    for i in range(len(cl_centers)):\n",
    "        d = math.sqrt( (lat_mean - cluster_centers[i][0])**2 + (lon_mean - cluster_centers[i][1])**2 ) \n",
    "        distance.append(d)\n",
    "\n",
    "    # so which index is that?\n",
    "    best_cluster_center = np.array(distance).argmin()\n",
    "\n",
    "    return best_cluster_center"
   ]
  },
  {
   "cell_type": "code",
   "execution_count": 19,
   "metadata": {},
   "outputs": [],
   "source": [
    "\n",
    "def find_matthews_corrcoeff_for_group(group_matrix, all_lats, all_lons, cluster_centers):\n",
    "    y_true = group_matrix.to_numpy().astype(int)\n",
    "    y_pred = []\n",
    "\n",
    "    group_best_center_index = best_cluster_center(group_matrix, lats, lons, cl_centers)\n",
    "    for i in range(len(cl_labels)):\n",
    "        if cl_labels[i] == group_best_center_index:\n",
    "            y_pred.append(1)\n",
    "        else:\n",
    "            y_pred.append(0)\n",
    "\n",
    "    return group_best_center_index, matthews_corrcoef(y_true, y_pred)"
   ]
  },
  {
   "cell_type": "code",
   "execution_count": 20,
   "metadata": {},
   "outputs": [
    {
     "name": "stdout",
     "output_type": "stream",
     "text": [
      "the cluster point and MCC for BOKO is    (0, 0.0)\n",
      "the cluster point and MCC for ISIS-WA is (0, 0.0)\n",
      "the cluster point and MCC for ISIS-GS is (1, 0.3925238940947571)\n",
      "the cluster point and MCC for JNIM is    (1, 0.06978905519733947)\n",
      "the cluster point and MCC for MLF is     (0, 0.24593842230156693)\n"
     ]
    }
   ],
   "source": [
    "print( \"the cluster point and MCC for BOKO is   \", \n",
    "        find_matthews_corrcoeff_for_group(BH_matrix, lats, lons, cl_centers) )\n",
    "print( \"the cluster point and MCC for ISIS-WA is\", \n",
    "        find_matthews_corrcoeff_for_group(ISIS_WA_matrix, lats, lons, cl_centers) )\n",
    "print( \"the cluster point and MCC for ISIS-GS is\", \n",
    "        find_matthews_corrcoeff_for_group(ISIS_GS_matrix, lats, lons, cl_centers) )\n",
    "print( \"the cluster point and MCC for JNIM is   \", \n",
    "        find_matthews_corrcoeff_for_group(JNIM_matrix, lats, lons, cl_centers) )\n",
    "print( \"the cluster point and MCC for MLF is    \", \n",
    "        find_matthews_corrcoeff_for_group(MLF_matrix, lats, lons, cl_centers) )\n"
   ]
  },
  {
   "cell_type": "markdown",
   "metadata": {},
   "source": [
    "So really this doesn't work that well - multiple groups gravitated towards the same cluster centers, and correlations are pretty poor overall."
   ]
  }
 ],
 "metadata": {
  "kernelspec": {
   "display_name": "Python 3",
   "language": "python",
   "name": "python3"
  },
  "language_info": {
   "codemirror_mode": {
    "name": "ipython",
    "version": 3
   },
   "file_extension": ".py",
   "mimetype": "text/x-python",
   "name": "python",
   "nbconvert_exporter": "python",
   "pygments_lexer": "ipython3",
   "version": "3.8.3"
  }
 },
 "nbformat": 4,
 "nbformat_minor": 2
}
