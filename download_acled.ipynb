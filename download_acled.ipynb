{
 "metadata": {
  "language_info": {
   "codemirror_mode": {
    "name": "ipython",
    "version": 3
   },
   "file_extension": ".py",
   "mimetype": "text/x-python",
   "name": "python",
   "nbconvert_exporter": "python",
   "pygments_lexer": "ipython3",
   "version": "3.8.5-final"
  },
  "orig_nbformat": 2,
  "kernelspec": {
   "name": "Python 3.8.5 64-bit ('base': conda)",
   "display_name": "Python 3.8.5 64-bit ('base': conda)",
   "metadata": {
    "interpreter": {
     "hash": "b3ba2566441a7c06988d0923437866b63cedc61552a5af99d1f4fb67d367b25f"
    }
   }
  }
 },
 "nbformat": 4,
 "nbformat_minor": 2,
 "cells": [
  {
   "cell_type": "code",
   "execution_count": 1,
   "metadata": {},
   "outputs": [],
   "source": [
    "import requests\n",
    "import io\n",
    "import json\n",
    "import re\n",
    "import numpy as np\n",
    "import pandas as pd"
   ]
  },
  {
   "cell_type": "code",
   "execution_count": 2,
   "metadata": {},
   "outputs": [
    {
     "output_type": "stream",
     "name": "stdout",
     "text": [
      "importing Jupyter notebook from acled_email_key.ipynb\n"
     ]
    }
   ],
   "source": [
    "# starting Oct 2020, ACLED requires you to use your individual email/key to access the data and api\n",
    "# to store and import your key/email into this code, first,\n",
    "#  - create an ipynb file called:\n",
    "#\n",
    "#               acled_api_email_key.ipynb, \n",
    "#\n",
    "# and inside:\n",
    "#\n",
    "# - define this dict variable as:\n",
    "#               acled_api_email_key = { 'key':'[your key here]', \n",
    "#                                       'email':'[your email here]'}import import_ipynb\n",
    "#\n",
    "# DON'T INCLUDE THAT FILE ON GITHUB\n",
    "# \n",
    "# then import it like this (you may need to \"pip install import-ipynb\" first):\n",
    "#\n",
    "import import_ipynb\n",
    "from acled_email_key import acled_api_email_key\n",
    "\n"
   ]
  },
  {
   "cell_type": "code",
   "execution_count": 3,
   "metadata": {},
   "outputs": [],
   "source": [
    "acled_api_url_base = 'https://api.acleddata.com/acled/read' "
   ]
  },
  {
   "cell_type": "code",
   "execution_count": 4,
   "metadata": {},
   "outputs": [],
   "source": [
    "\n",
    "# load the ACLED ISO country code tables\n",
    "def get_acled_country_code(country_name_str):\n",
    "    ''' \n",
    "    uses an excel file provided by ACLED to take a country name string and get a country code number\n",
    "    ACLED now allows you to pass the string as a parameter in the query but it's buggy\n",
    "    e.g. passing \"Niger\" gets \"Niger\" and \"Nigeria\" both at time of this coding\n",
    "    '''\n",
    "\n",
    "    acled_country_codes = pd.read_excel('ACLED-Country-Coverage-and-ISO-Codes_3.2020.xlsx')\n",
    "    acled_country_codes.set_index('Country', inplace=True)\n",
    "    #print(acled_country_codes)\n",
    "\n",
    "    # get the ACLED ISO country code \n",
    "    acled_country_code = acled_country_codes.loc[country_name_str]['ISO Code']\n",
    "    return acled_country_code\n",
    "    "
   ]
  },
  {
   "cell_type": "code",
   "execution_count": 5,
   "metadata": {},
   "outputs": [],
   "source": [
    "def get_acled_download_parameters(country_name_str, event_start_date_str):\n",
    "    ''' \n",
    "    pass it a country name and an event start date as strings\n",
    "    will go from that start date to present\n",
    "    '''\n",
    "    # let's set the acled api calling parameters\n",
    "    ploads = acled_api_email_key\n",
    "    ploads.update({ 'iso': get_acled_country_code(country_name_str),\n",
    "                    'event_date':event_start_date_str,\n",
    "                    'event_date_where':'>',\n",
    "                    'page':1 # starts at page 1\n",
    "                    })\n",
    "    return ploads"
   ]
  },
  {
   "cell_type": "code",
   "execution_count": 6,
   "metadata": {},
   "outputs": [],
   "source": [
    "# a function that updates our ACLED GET calls to help us sequence it with page numbers\n",
    "def ping_acled(api_url, api_parameters, page_num=1): \n",
    "    '''\n",
    "    Takes base url for api, the parameters as a dict, and the page number as an int\n",
    "    will auto update any existing page num in the api_parameters with the page number\n",
    "    pass it a the base url string, a dict of parameters, and any pertinent page number\n",
    "    '''\n",
    "\n",
    "    api_parameters.update({'page':page_num}) # set the page number in the parameters\n",
    "\n",
    "    r = requests.get(api_url, api_parameters)\n",
    "\n",
    "    if r.status_code == 200:\n",
    "        print('success')\n",
    "    elif r.status_code == 404:\n",
    "        print('not found')\n",
    "\n",
    "    data = r.json()\n",
    "\n",
    "    return data"
   ]
  },
  {
   "cell_type": "code",
   "execution_count": 7,
   "metadata": {},
   "outputs": [],
   "source": [
    "def download_acled_data(acled_download_parameters):\n",
    "    \"\"\" pass it a dict of parameters created with get_acled_download_parameters \"\"\"\n",
    "    \n",
    "    # now the code to download the data\n",
    "\n",
    "    results = [] # empty data structure to store results\n",
    "    num_results = 500 # condition to continue adding pages\n",
    "    count = 0  # tracker of results\n",
    "    page = 1 # Per the documentation each page will give us more results, and we start with page 1\n",
    "\n",
    "    while num_results == 500: # if less 500 or 0 we know we have all the results\n",
    "        print (\"downloading acled page \", page) # just to see our progress\n",
    "\n",
    "        acled_download_parameters.update({'page':page}) # set the page number\n",
    "        data = ping_acled(acled_api_url_base, acled_download_parameters, page) # call the previous function \n",
    "\n",
    "        results.append(data['data']) # store in our results\n",
    "        count += data['count'] # Track number of results\n",
    "\n",
    "        num_results = data['count'] # update our condition\n",
    "        page += 1 # update our page variable\n",
    "        print (\"number of results \", count) # Track our progress\n",
    "\n",
    "    super_list = []\n",
    "    for res in results: \n",
    "        super_list += res\n",
    "        print (len(super_list))\n",
    "\n",
    "    return super_list"
   ]
  },
  {
   "cell_type": "code",
   "execution_count": 8,
   "metadata": {},
   "outputs": [],
   "source": [
    "def recast_acled_numerical_columns( acled_df ):\n",
    "    \"\"\" pass it a pandas dataframe created from an ACLED download \"\"\"\n",
    "    \n",
    "    # convert numerical data types to increase calculations speed\n",
    "    acled_df = acled_df.astype({\n",
    "        \"data_id\": int, \n",
    "        \"iso\": int, \n",
    "        \"event_id_no_cnty\": int, \n",
    "        \"event_date\": np.datetime64, \n",
    "        \"year\": int,\n",
    "        \"time_precision\": int,\n",
    "        \"inter1\": int,\n",
    "        \"inter2\": int,\n",
    "        \"interaction\": int,\n",
    "        \"latitude\": float, \n",
    "        \"longitude\": float,\n",
    "        \"geo_precision\": int,\n",
    "        \"fatalities\": int,\n",
    "        \"timestamp\": int })\n",
    "        \n",
    "    return acled_df"
   ]
  },
  {
   "cell_type": "code",
   "execution_count": null,
   "metadata": {},
   "outputs": [],
   "source": []
  }
 ]
}